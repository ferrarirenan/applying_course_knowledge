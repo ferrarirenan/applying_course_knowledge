{
  "nbformat": 4,
  "nbformat_minor": 0,
  "metadata": {
    "colab": {
      "name": "risco_credito.ipynb",
      "provenance": []
    },
    "kernelspec": {
      "name": "python3",
      "display_name": "Python 3"
    },
    "language_info": {
      "name": "python"
    }
  },
  "cells": [
    {
      "cell_type": "code",
      "metadata": {
        "id": "n8UKUDfP84Tw"
      },
      "source": [
        "import pandas as pd\n",
        "from sklearn.preprocessing import LabelEncoder\n",
        "from sklearn.naive_bayes import GaussianNB"
      ],
      "execution_count": 36,
      "outputs": []
    },
    {
      "cell_type": "code",
      "metadata": {
        "id": "KLoC3LE19Kma"
      },
      "source": [
        "cred = pd.read_csv('/content/drive/MyDrive/Projetos/ML/Risco de Credito/risco_credito.csv')"
      ],
      "execution_count": 2,
      "outputs": []
    },
    {
      "cell_type": "code",
      "metadata": {
        "colab": {
          "base_uri": "https://localhost:8080/",
          "height": 204
        },
        "id": "GMf3IhI49OuP",
        "outputId": "a7777d90-829b-47a4-dfd1-1599f9781f94"
      },
      "source": [
        "cred.head()"
      ],
      "execution_count": 3,
      "outputs": [
        {
          "output_type": "execute_result",
          "data": {
            "text/html": [
              "<div>\n",
              "<style scoped>\n",
              "    .dataframe tbody tr th:only-of-type {\n",
              "        vertical-align: middle;\n",
              "    }\n",
              "\n",
              "    .dataframe tbody tr th {\n",
              "        vertical-align: top;\n",
              "    }\n",
              "\n",
              "    .dataframe thead th {\n",
              "        text-align: right;\n",
              "    }\n",
              "</style>\n",
              "<table border=\"1\" class=\"dataframe\">\n",
              "  <thead>\n",
              "    <tr style=\"text-align: right;\">\n",
              "      <th></th>\n",
              "      <th>historia</th>\n",
              "      <th>divida</th>\n",
              "      <th>garantias</th>\n",
              "      <th>renda</th>\n",
              "      <th>risco</th>\n",
              "    </tr>\n",
              "  </thead>\n",
              "  <tbody>\n",
              "    <tr>\n",
              "      <th>0</th>\n",
              "      <td>ruim</td>\n",
              "      <td>alta</td>\n",
              "      <td>nenhuma</td>\n",
              "      <td>0_15</td>\n",
              "      <td>alto</td>\n",
              "    </tr>\n",
              "    <tr>\n",
              "      <th>1</th>\n",
              "      <td>desconhecida</td>\n",
              "      <td>alta</td>\n",
              "      <td>nenhuma</td>\n",
              "      <td>15_35</td>\n",
              "      <td>alto</td>\n",
              "    </tr>\n",
              "    <tr>\n",
              "      <th>2</th>\n",
              "      <td>desconhecida</td>\n",
              "      <td>baixa</td>\n",
              "      <td>nenhuma</td>\n",
              "      <td>15_35</td>\n",
              "      <td>moderado</td>\n",
              "    </tr>\n",
              "    <tr>\n",
              "      <th>3</th>\n",
              "      <td>desconhecida</td>\n",
              "      <td>baixa</td>\n",
              "      <td>nenhuma</td>\n",
              "      <td>acima_35</td>\n",
              "      <td>alto</td>\n",
              "    </tr>\n",
              "    <tr>\n",
              "      <th>4</th>\n",
              "      <td>desconhecida</td>\n",
              "      <td>baixa</td>\n",
              "      <td>nenhuma</td>\n",
              "      <td>acima_35</td>\n",
              "      <td>baixo</td>\n",
              "    </tr>\n",
              "  </tbody>\n",
              "</table>\n",
              "</div>"
            ],
            "text/plain": [
              "       historia divida garantias     renda     risco\n",
              "0          ruim   alta   nenhuma      0_15      alto\n",
              "1  desconhecida   alta   nenhuma     15_35      alto\n",
              "2  desconhecida  baixa   nenhuma     15_35  moderado\n",
              "3  desconhecida  baixa   nenhuma  acima_35      alto\n",
              "4  desconhecida  baixa   nenhuma  acima_35     baixo"
            ]
          },
          "metadata": {
            "tags": []
          },
          "execution_count": 3
        }
      ]
    },
    {
      "cell_type": "markdown",
      "metadata": {
        "id": "Z944TDSl9S64"
      },
      "source": [
        "Dividir as Feature / Label"
      ]
    },
    {
      "cell_type": "code",
      "metadata": {
        "colab": {
          "base_uri": "https://localhost:8080/"
        },
        "id": "1Y4jaTv19QVH",
        "outputId": "5e437f5d-ce41-44f7-c1bb-73c580a225aa"
      },
      "source": [
        "X_risco = cred.iloc[:, 0:4].values\n",
        "print(X_risco)\n",
        "y_risco = cred.iloc[:,4].values\n",
        "print(y_risco)"
      ],
      "execution_count": 30,
      "outputs": [
        {
          "output_type": "stream",
          "text": [
            "[['ruim' 'alta' 'nenhuma' '0_15']\n",
            " ['desconhecida' 'alta' 'nenhuma' '15_35']\n",
            " ['desconhecida' 'baixa' 'nenhuma' '15_35']\n",
            " ['desconhecida' 'baixa' 'nenhuma' 'acima_35']\n",
            " ['desconhecida' 'baixa' 'nenhuma' 'acima_35']\n",
            " ['desconhecida' 'baixa' 'adequada' 'acima_35']\n",
            " ['ruim' 'baixa' 'nenhuma' '0_15']\n",
            " ['ruim' 'baixa' 'adequada' 'acima_35']\n",
            " ['boa' 'baixa' 'nenhuma' 'acima_35']\n",
            " ['boa' 'alta' 'adequada' 'acima_35']\n",
            " ['boa' 'alta' 'nenhuma' '0_15']\n",
            " ['boa' 'alta' 'nenhuma' '15_35']\n",
            " ['boa' 'alta' 'nenhuma' 'acima_35']\n",
            " ['ruim' 'alta' 'nenhuma' '15_35']]\n",
            "['alto' 'alto' 'moderado' 'alto' 'baixo' 'baixo' 'alto' 'moderado' 'baixo'\n",
            " 'baixo' 'alto' 'moderado' 'baixo' 'alto']\n"
          ],
          "name": "stdout"
        }
      ]
    },
    {
      "cell_type": "code",
      "metadata": {
        "id": "HO_e1M-uAgTX"
      },
      "source": [
        "label_encoder_geral = LabelEncoder()"
      ],
      "execution_count": 33,
      "outputs": []
    },
    {
      "cell_type": "code",
      "metadata": {
        "colab": {
          "base_uri": "https://localhost:8080/"
        },
        "id": "1uBN88fG9poN",
        "outputId": "d58f2e44-1f9a-4e99-d934-7108cbff395f"
      },
      "source": [
        "l,c = X_risco.shape\n",
        "for i in range(c):\n",
        "  X_risco[:,i] = label_encoder_geral.fit_transform(X_risco[:,i])\n",
        "X_risco"
      ],
      "execution_count": 34,
      "outputs": [
        {
          "output_type": "execute_result",
          "data": {
            "text/plain": [
              "array([[2, 0, 1, 0],\n",
              "       [1, 0, 1, 1],\n",
              "       [1, 1, 1, 1],\n",
              "       [1, 1, 1, 2],\n",
              "       [1, 1, 1, 2],\n",
              "       [1, 1, 0, 2],\n",
              "       [2, 1, 1, 0],\n",
              "       [2, 1, 0, 2],\n",
              "       [0, 1, 1, 2],\n",
              "       [0, 0, 0, 2],\n",
              "       [0, 0, 1, 0],\n",
              "       [0, 0, 1, 1],\n",
              "       [0, 0, 1, 2],\n",
              "       [2, 0, 1, 1]], dtype=object)"
            ]
          },
          "metadata": {
            "tags": []
          },
          "execution_count": 34
        }
      ]
    },
    {
      "cell_type": "code",
      "metadata": {
        "id": "reEUSM6dAuUu"
      },
      "source": [
        "naive_risco = GaussianNB()"
      ],
      "execution_count": 37,
      "outputs": []
    },
    {
      "cell_type": "code",
      "metadata": {
        "colab": {
          "base_uri": "https://localhost:8080/"
        },
        "id": "pDCXSroCA5LW",
        "outputId": "4cbb4c4f-1cd7-47a9-c8d0-60b4d61f8f5e"
      },
      "source": [
        "naive_risco.fit(X_risco, y_risco)"
      ],
      "execution_count": 38,
      "outputs": [
        {
          "output_type": "execute_result",
          "data": {
            "text/plain": [
              "GaussianNB(priors=None, var_smoothing=1e-09)"
            ]
          },
          "metadata": {
            "tags": []
          },
          "execution_count": 38
        }
      ]
    },
    {
      "cell_type": "code",
      "metadata": {
        "id": "y6ts7ahyBacd"
      },
      "source": [
        "previsao = naive_risco.predict([[0,0,1,2],[2,0,0,0]])"
      ],
      "execution_count": 39,
      "outputs": []
    },
    {
      "cell_type": "code",
      "metadata": {
        "colab": {
          "base_uri": "https://localhost:8080/"
        },
        "id": "qkoGApVpBqg1",
        "outputId": "f25d1598-bd5e-4b8f-8d57-0a4f28d09fc2"
      },
      "source": [
        "previsao"
      ],
      "execution_count": 40,
      "outputs": [
        {
          "output_type": "execute_result",
          "data": {
            "text/plain": [
              "array(['baixo', 'moderado'], dtype='<U8')"
            ]
          },
          "metadata": {
            "tags": []
          },
          "execution_count": 40
        }
      ]
    }
  ]
}